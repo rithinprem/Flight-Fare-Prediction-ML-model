{
 "cells": [
  {
   "cell_type": "code",
   "execution_count": 1,
   "metadata": {},
   "outputs": [],
   "source": [
    "import os"
   ]
  },
  {
   "cell_type": "code",
   "execution_count": 2,
   "metadata": {},
   "outputs": [
    {
     "data": {
      "text/plain": [
       "'r:\\\\Projects\\\\Flight_Price_Prediction_ML\\\\Flight-Price-Prediction-ML-model\\\\research'"
      ]
     },
     "execution_count": 2,
     "metadata": {},
     "output_type": "execute_result"
    }
   ],
   "source": [
    "%pwd"
   ]
  },
  {
   "cell_type": "code",
   "execution_count": 3,
   "metadata": {},
   "outputs": [],
   "source": [
    "os.chdir('r:\\\\Projects\\\\Flight_Price_Prediction_ML\\\\Flight-Price-Prediction-ML-model')"
   ]
  },
  {
   "cell_type": "code",
   "execution_count": 5,
   "metadata": {},
   "outputs": [],
   "source": [
    "from dataclasses import dataclass\n",
    "from pathlib import Path\n",
    "\n",
    "@dataclass(frozen=True)\n",
    "class ModelTrainerConfig:\n",
    "    root_dir : Path\n",
    "    train_data_path : Path\n",
    "    test_data_path : Path\n",
    "    model_name : str\n",
    "    learning_rate: float\n",
    "    max_depth:float\n",
    "    n_estimators:float\n",
    "    target_column : str\n"
   ]
  },
  {
   "cell_type": "code",
   "execution_count": 6,
   "metadata": {},
   "outputs": [],
   "source": [
    "from mlProject.constants import *\n",
    "from mlProject.utils.common import read_yaml,create_directories\n",
    "\n",
    "class ConfigurationManager:\n",
    "    def __init__ (\n",
    "            self,\n",
    "            config_filepath = CONFIG_FILE_PATH,\n",
    "            params_filepath = PARAMS_FILE_PATH,\n",
    "            schema_filepath = SCHEMA_FILE_PATH,\n",
    "            label_encoding_filepath = LABEL_ENCODING_FILE_PATH):\n",
    "        \n",
    "            self.config = read_yaml(config_filepath)\n",
    "            self.params = read_yaml(params_filepath)\n",
    "            self.schema = read_yaml(schema_filepath)\n",
    "            self.labels = read_yaml(label_encoding_filepath)\n",
    "\n",
    "            create_directories([self.config.artifacts_root])\n",
    "\n",
    "    def get_model_trainer_config(self) -> ModelTrainerConfig:\n",
    "            config = self.config.model_trainer\n",
    "            schema = self.schema.TARGET_COLUMN\n",
    "            params = self.params.XGBRegressor\n",
    "\n",
    "            create_directories([config.root_dir])\n",
    "\n",
    "            model_trainer_config = ModelTrainerConfig(\n",
    "                    root_dir= config.root_dir,\n",
    "                    train_data_path=config.train_data_path,\n",
    "                    test_data_path= config.test_data_path,\n",
    "                    model_name=config.model_name,\n",
    "                    learning_rate=params.learning_rate,\n",
    "                    max_depth=params.max_depth,\n",
    "                    n_estimators=params.n_estimators,\n",
    "                    target_column=schema.name\n",
    "\n",
    "            )\n",
    "\n",
    "            return model_trainer_config"
   ]
  },
  {
   "cell_type": "code",
   "execution_count": 7,
   "metadata": {},
   "outputs": [],
   "source": [
    "import pandas as pd\n",
    "import os\n",
    "from mlProject import logger\n",
    "from xgboost import XGBRegressor\n",
    "\n",
    "import joblib\n",
    "\n",
    "\n",
    "class ModelTrainer:\n",
    "    def __init__(self,config:ModelTrainerConfig):\n",
    "        self.config = config\n",
    "\n",
    "    def train(self):\n",
    "        train_data = pd.read_csv(self.config.train_data_path)\n",
    "        test_data = pd.read_csv(self.config.test_data_path)\n",
    "\n",
    "        train_x = train_data.drop([self.config.target_column],axis=1)\n",
    "        test_x =  test_data.drop([self.config.target_column],axis=1)\n",
    "        train_y = train_data[[self.config.target_column]]\n",
    "        test_y = test_data[[self.config.target_column]]\n",
    "\n",
    "        Xr = XGBRegressor(learning_rate=self.config.learning_rate, max_depth=self.config.max_depth, n_estimators = self.config.n_estimators, random_state=42)\n",
    "        Xr.fit(train_x,train_y)\n",
    "\n",
    "        joblib.dump(Xr,os.path.join(self.config.root_dir,self.config.model_name))\n",
    "\n",
    "\n"
   ]
  },
  {
   "cell_type": "code",
   "execution_count": 8,
   "metadata": {},
   "outputs": [
    {
     "name": "stdout",
     "output_type": "stream",
     "text": [
      "[2024-07-14 02:12:59,883: INFO: common: yaml file: config\\config.yaml loaded successfully]\n",
      "[2024-07-14 02:12:59,900: INFO: common: yaml file: params.yaml loaded successfully]\n",
      "[2024-07-14 02:12:59,916: INFO: common: yaml file: schema.yaml loaded successfully]\n",
      "[2024-07-14 02:12:59,935: INFO: common: yaml file: label_encoding.yaml loaded successfully]\n",
      "[2024-07-14 02:12:59,940: INFO: common: created directory at: artifacts]\n",
      "[2024-07-14 02:12:59,944: INFO: common: created directory at: artifacts/model_trainer]\n"
     ]
    }
   ],
   "source": [
    "try:\n",
    "    config = ConfigurationManager()\n",
    "    model_trainer_config = config.get_model_trainer_config()\n",
    "    model_trainer_config = ModelTrainer(config=model_trainer_config)\n",
    "    model_trainer_config.train()\n",
    "\n",
    "except Exception as e:\n",
    "    raise e"
   ]
  }
 ],
 "metadata": {
  "kernelspec": {
   "display_name": "mlproj",
   "language": "python",
   "name": "python3"
  },
  "language_info": {
   "codemirror_mode": {
    "name": "ipython",
    "version": 3
   },
   "file_extension": ".py",
   "mimetype": "text/x-python",
   "name": "python",
   "nbconvert_exporter": "python",
   "pygments_lexer": "ipython3",
   "version": "3.8.19"
  }
 },
 "nbformat": 4,
 "nbformat_minor": 2
}
